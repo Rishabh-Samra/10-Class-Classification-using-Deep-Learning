{
 "cells": [
  {
   "cell_type": "code",
   "execution_count": 1,
   "id": "10ca2866",
   "metadata": {},
   "outputs": [],
   "source": [
    "import torch\n",
    "import torch.nn as nn\n",
    "import torch.optim as optim\n",
    "from torch.optim import lr_scheduler\n",
    "import torch.backends.cudnn as cudnn\n",
    "import numpy as np\n",
    "import torchvision\n",
    "from torchvision import datasets, models, transforms\n",
    "import matplotlib.pyplot as plt\n",
    "import time\n",
    "import os\n",
    "import copy\n",
    "import pandas as pd\n",
    "import imageio\n",
    "import glob\n",
    "import shutil\n",
    "from torch.utils.data import Dataset, DataLoader\n",
    "from skimage.io import imread\n",
    "from albumentations.pytorch import ToTensorV2\n",
    "import albumentations as A"
   ]
  },
  {
   "cell_type": "code",
   "execution_count": 2,
   "id": "aca44ed1",
   "metadata": {},
   "outputs": [
    {
     "name": "stdout",
     "output_type": "stream",
     "text": [
      "['cane', 'cavallo', 'elefante', 'farfalla', 'gallina', 'gatto', 'mucca', 'pecora', 'ragno', 'scoiattolo']\n"
     ]
    }
   ],
   "source": [
    "path= '/home/rishabh/Data/animal10/animal10_cls/train'\n",
    "animals = os.listdir(path)\n",
    "animals.sort()\n",
    "print(animals)\n"
   ]
  },
  {
   "cell_type": "markdown",
   "id": "e54923e8",
   "metadata": {},
   "source": [
    "### Data Preprocessing"
   ]
  },
  {
   "cell_type": "code",
   "execution_count": 30,
   "id": "fb08e2fd",
   "metadata": {},
   "outputs": [],
   "source": [
    "# for i in animals:\n",
    "#     os.mkdir('/home/rishabh/Data/animal10/resized_raw_images/test/'+i)\n"
   ]
  },
  {
   "cell_type": "code",
   "execution_count": 4,
   "id": "e4b2e96c",
   "metadata": {},
   "outputs": [
    {
     "name": "stdout",
     "output_type": "stream",
     "text": [
      "cane\n",
      "cavallo\n",
      "elefante\n",
      "farfalla\n",
      "gallina\n",
      "gatto\n",
      "mucca\n",
      "pecora\n",
      "ragno\n",
      "scoiattolo\n"
     ]
    }
   ],
   "source": [
    "train_path = '/home/rishabh/Data/animal10/animal10_cls/val'\n",
    "dest_path = '/home/rishabh/Data/animal10/animal_10_small_cls/val'\n",
    "for name in animals:\n",
    "    print(name)\n",
    "    files = glob.glob(train_path+'/'+name+'/*')\n",
    "        \n",
    "   #test_files = files[-215:]\n",
    "    for vf in val_files:\n",
    "        shutil.copy(vf, dest_path+'/'+name)\n",
    "  #for tf in test_files:\n",
    "   # shutil.copy(tf, dest_path+'test/'+name)"
   ]
  },
  {
   "cell_type": "code",
   "execution_count": 7,
   "id": "8a45c625",
   "metadata": {},
   "outputs": [],
   "source": [
    "#for i in animals:\n",
    " #   os.mkdir('/home/rishabh/Data/animal10/animal_10_small_cls/discarded_train/'+i)\n"
   ]
  },
  {
   "cell_type": "code",
   "execution_count": 4,
   "id": "24bed98d",
   "metadata": {},
   "outputs": [
    {
     "name": "stdout",
     "output_type": "stream",
     "text": [
      "cane\n",
      "cavallo\n",
      "elefante\n",
      "farfalla\n",
      "gallina\n",
      "gatto\n",
      "mucca\n",
      "pecora\n",
      "ragno\n",
      "scoiattolo\n"
     ]
    }
   ],
   "source": [
    "path= '/home/rishabh/Data/animal10/animal_10_small_cls/train/'\n",
    "#for i in animals:\n",
    "    print(i)\n",
    "    imgs = glob.glob(path+i+'/*')[:500]\n",
    "    n = len(imgs)\n",
    "    for img in imgs:\n",
    "        shutil.copy(img,'/home/rishabh/Data/animal10/animal10_cls/train/'+i)"
   ]
  },
  {
   "cell_type": "code",
   "execution_count": 5,
   "id": "d7039558",
   "metadata": {},
   "outputs": [],
   "source": [
    "os.remove('/home/rishabh/0.png')"
   ]
  },
  {
   "cell_type": "code",
   "execution_count": 1,
   "id": "22e59721",
   "metadata": {},
   "outputs": [
    {
     "name": "stdout",
     "output_type": "stream",
     "text": [
      "[1, 2, 3, 4, 5, 6, 4, 5, 6]\n"
     ]
    }
   ],
   "source": [
    "a = [1,2,3]\n",
    "for i in range(2):\n",
    "\n",
    "    b = (4,5,6)\n",
    "    a.extend(b)\n",
    "print(a)"
   ]
  },
  {
   "cell_type": "code",
   "execution_count": null,
   "id": "8da50181",
   "metadata": {},
   "outputs": [],
   "source": [
    "img = glob.glob('/home/rishabh/Data/animal10/raw-img/'+animals[0]+'/*')\n",
    "print(len(img), img[0])"
   ]
  },
  {
   "cell_type": "code",
   "execution_count": null,
   "id": "c74bd6d9",
   "metadata": {},
   "outputs": [],
   "source": [
    "for i in animals:\n",
    "    print(i)\n",
    "    imgs = glob.glob(path+i+'/*')\n",
    "    n = len(imgs)\n",
    "    for idx,img in enumerate(imgs):\n",
    "        if idx<= int(0.70*n)+1:\n",
    "            shutil.copy(img,'/home/rishabh/Data/animal10/train/'+i)\n",
    "        else:\n",
    "            shutil.copy(img, '/home/rishabh/Data/animal10/val/'+i)"
   ]
  },
  {
   "cell_type": "markdown",
   "id": "51488e66",
   "metadata": {},
   "source": [
    "### Inference_ animal 10"
   ]
  },
  {
   "cell_type": "code",
   "execution_count": 4,
   "id": "52b3e4b1",
   "metadata": {},
   "outputs": [
    {
     "name": "stdout",
     "output_type": "stream",
     "text": [
      "2150\n"
     ]
    }
   ],
   "source": [
    "# import glob\n",
    "# #data_dir = '/home/rishabh/Downloads/test'\n",
    "# files = glob.glob('/home/rishabh/Data/animal10/animal_10_small_cls/test/*/*')\n",
    "# print(len(files))"
   ]
  },
  {
   "cell_type": "code",
   "execution_count": 3,
   "id": "5f315476",
   "metadata": {},
   "outputs": [
    {
     "name": "stdout",
     "output_type": "stream",
     "text": [
      "['cane', 'cavallo', 'elefante', 'farfalla', 'gallina', 'gatto', 'mucca', 'pecora', 'ragno', 'scoiattolo']\n"
     ]
    }
   ],
   "source": [
    "path= '/home/rishabh/Data/animal10/animal10_cls/train'\n",
    "subjects = os.listdir(path)\n",
    "subjects.sort()\n",
    "print(subjects)"
   ]
  },
  {
   "cell_type": "code",
   "execution_count": 4,
   "id": "2e8636ec",
   "metadata": {},
   "outputs": [],
   "source": [
    "data_dir = '/home/rishabh/Data/animal10/animal_10_small_cls/'\n",
    "imgpath_test = []\n",
    "length_test = []\n",
    "for sub in subjects:\n",
    "    file1 = glob.glob(data_dir+'test/'+sub+'/*')\n",
    "    length_test.append(len(file1))\n",
    "    imgpath_test.extend(file1)"
   ]
  },
  {
   "cell_type": "code",
   "execution_count": 11,
   "id": "d92efdd1",
   "metadata": {},
   "outputs": [
    {
     "name": "stdout",
     "output_type": "stream",
     "text": [
      "[215, 215, 215, 215, 215, 215, 215, 215, 215, 215]\n"
     ]
    }
   ],
   "source": [
    "print(length_test)"
   ]
  },
  {
   "cell_type": "code",
   "execution_count": 37,
   "id": "e75701a2",
   "metadata": {},
   "outputs": [],
   "source": [
    "rgbd_det = []\n",
    "for idx,ipath in enumerate(imgpath_test):\n",
    "    img = imageio.imread(ipath)\n",
    "    rgbd_det.append(img.shape[2])\n",
    "    #print(img.shape)"
   ]
  },
  {
   "cell_type": "code",
   "execution_count": 40,
   "id": "ca9d5982",
   "metadata": {},
   "outputs": [
    {
     "name": "stdout",
     "output_type": "stream",
     "text": [
      "23\n",
      "[475, 516, 531, 588, 590, 656, 688, 692, 703, 710, 723, 726, 754, 773, 797, 799, 803, 804, 826, 828, 843, 857, 1728]\n"
     ]
    }
   ],
   "source": [
    "list_idx = rgbd_det.index(4)\n",
    "res_list = [i for i, value in enumerate(rgbd_det) if value == 4]\n",
    "print(len(res_list))\n",
    "print(res_list)\n"
   ]
  },
  {
   "cell_type": "code",
   "execution_count": 41,
   "id": "6da9cda7",
   "metadata": {},
   "outputs": [
    {
     "name": "stdout",
     "output_type": "stream",
     "text": [
      "(250, 320, 4)\n"
     ]
    },
    {
     "data": {
      "image/png": "[encoded data removed]",
      "text/plain": [
       "<Figure size 432x288 with 1 Axes>"
      ]
     },
     "metadata": {
      "needs_background": "light"
     },
     "output_type": "display_data"
    }
   ],
   "source": [
    "img_RGBD = imageio.imread(imgpath_test[475]) \n",
    "print(img_RGBD.shape)\n",
    "plt.imshow(img_RGBD)\n",
    "plt.show()\n",
    "\n"
   ]
  },
  {
   "cell_type": "code",
   "execution_count": 42,
   "id": "f9ab88e4",
   "metadata": {},
   "outputs": [
    {
     "name": "stdout",
     "output_type": "stream",
     "text": [
      "(250, 320, 3)\n"
     ]
    },
    {
     "data": {
      "image/png": "[encoded data removed]",
      "text/plain": [
       "<Figure size 432x288 with 1 Axes>"
      ]
     },
     "metadata": {
      "needs_background": "light"
     },
     "output_type": "display_data"
    }
   ],
   "source": [
    "img_RGB = img_RGBD[:,:,:3]\n",
    "print(img_RGB.shape)\n",
    "plt.imshow(img_RGB)\n",
    "plt.show()"
   ]
  },
  {
   "cell_type": "code",
   "execution_count": 12,
   "id": "5e695001",
   "metadata": {},
   "outputs": [],
   "source": [
    "a = np.zeros(215)\n",
    "b = np.ones(215)\n",
    "c = np.ones(215)*2\n",
    "d = np.ones(215)*3\n",
    "e = np.ones(215)*4\n",
    "f = np.ones(215)*5\n",
    "g = np.ones(215)*6\n",
    "h = np.ones(215)*7\n",
    "i = np.ones(215)*8\n",
    "j = np.ones(215)*9\n",
    "labels_test = np.concatenate((a,b,c,d,e,f,g,h,i,j), axis= 0)\n",
    "\n"
   ]
  },
  {
   "cell_type": "code",
   "execution_count": 13,
   "id": "d4af6d36",
   "metadata": {},
   "outputs": [
    {
     "name": "stdout",
     "output_type": "stream",
     "text": [
      "(2150,)\n"
     ]
    }
   ],
   "source": [
    "print(np.array(imgpath_test).shape)"
   ]
  },
  {
   "cell_type": "code",
   "execution_count": 14,
   "id": "0899f5a6",
   "metadata": {},
   "outputs": [],
   "source": [
    "import random\n",
    "random.seed(42)\n",
    "class ds(Dataset):\n",
    "    def __init__(self, imgpath, labels, transform = None):\n",
    "        self.imgpath = imgpath\n",
    "        self.labels = labels\n",
    "        self.transform = transform\n",
    "        \n",
    "    def __len__(self):\n",
    "        return len(self.imgpath)\n",
    "    \n",
    "    def __getitem__(self,idx):\n",
    "        path = self.imgpath[idx]\n",
    "        image = imread(path)\n",
    "        label = self.labels[idx]\n",
    "        # print('Shape: ', image.shape)\n",
    "        #image = image/255.0\n",
    "        # print(image.min(), image.max())\n",
    "        #image = img.transpose((2,0,1))\n",
    "        # sample = {'images': image,'labels':label }\n",
    "        if image.shape[2]==4:\n",
    "            image = image[:,:,:3]\n",
    "        if self.transform is not None:\n",
    "            image = self.transform(image=image)[\"image\"]\n",
    "        #\n",
    "        \n",
    "       # print(image.dtype)\n",
    "#         if self.transform:\n",
    "#             img = torch.from_numpy(img)\n",
    "#             sample = {'images':self.transform(img),'labels':label}  \n",
    "        return image,label,path"
   ]
  },
  {
   "cell_type": "code",
   "execution_count": 44,
   "id": "80c93369",
   "metadata": {},
   "outputs": [],
   "source": [
    "data_transforms =  A.Compose([\n",
    "    A.HorizontalFlip(p=0.5),\n",
    "    A.ShiftScaleRotate(shift_limit=0.0625, scale_limit=0.50, rotate_limit=45, p=.75),\n",
    "    A.RandomBrightnessContrast(brightness_limit=0.2, contrast_limit=0.2, brightness_by_max=True, always_apply=False, p=0.5),\n",
    "    A.Resize(height= 250, width = 320),\n",
    "    A.Normalize(mean=(0.485, 0.456, 0.406), std=(0.229, 0.224, 0.225)),\n",
    "    ToTensorV2()\n",
    "    ])\n",
    "\n",
    "test_dataset = ds(imgpath=imgpath_test, labels = labels_test, transform= data_transforms)"
   ]
  },
  {
   "cell_type": "code",
   "execution_count": 45,
   "id": "d8c31983",
   "metadata": {},
   "outputs": [],
   "source": [
    "test_dataloader = DataLoader(test_dataset, batch_size=8, shuffle=True, num_workers=4)             \n",
    "device = torch.device(\"cuda:0\" if torch.cuda.is_available() else \"cpu\")"
   ]
  },
  {
   "cell_type": "code",
   "execution_count": 4,
   "id": "b9729c46",
   "metadata": {},
   "outputs": [],
   "source": [
    "data_dir = '/home/rishabh/Data/animal10/animal_10_small_cls/test'\n",
    "data_transforms = {\n",
    "    'train': transforms.Compose([\n",
    "        transforms.RandomResizedCrop(224),\n",
    "        transforms.RandomHorizontalFlip(),\n",
    "        transforms.ToTensor(),\n",
    "        transforms.Normalize([0.485, 0.456, 0.406], [0.229, 0.224, 0.225])\n",
    "    ]),\n",
    "    'val': transforms.Compose([\n",
    "        transforms.Resize(256),\n",
    "        transforms.CenterCrop(224),\n",
    "        transforms.ToTensor(),\n",
    "        transforms.Normalize([0.485, 0.456, 0.406], [0.229, 0.224, 0.225])\n",
    "    ]),\n",
    "    'test': transforms.Compose([\n",
    "        transforms.Resize(256),\n",
    "        transforms.CenterCrop(224),\n",
    "        transforms.ToTensor(),\n",
    "        transforms.Normalize([0.485, 0.456, 0.406], [0.229, 0.224, 0.225])\n",
    "    ]),\n",
    "}\n",
    "\n",
    "image_datasets = datasets.ImageFolder(data_dir,\n",
    "                                          data_transforms['test'])\n",
    "                  \n",
    "dataloader = torch.utils.data.DataLoader(image_datasets, batch_size=1,\n",
    "                                             shuffle=True, num_workers=4)\n",
    "              "
   ]
  },
  {
   "cell_type": "code",
   "execution_count": 5,
   "id": "9bd456f4",
   "metadata": {},
   "outputs": [
    {
     "name": "stderr",
     "output_type": "stream",
     "text": [
      "/home/rishabh/anaconda3/lib/python3.9/site-packages/torchvision/models/_utils.py:208: UserWarning: The parameter 'pretrained' is deprecated since 0.13 and may be removed in the future, please use 'weights' instead.\n",
      "  warnings.warn(\n",
      "/home/rishabh/anaconda3/lib/python3.9/site-packages/torchvision/models/_utils.py:223: UserWarning: Arguments other than a weight enum or `None` for 'weights' are deprecated since 0.13 and may be removed in the future. The current behavior is equivalent to passing `weights=ResNet18_Weights.IMAGENET1K_V1`. You can also use `weights=ResNet18_Weights.DEFAULT` to get the most up-to-date weights.\n",
      "  warnings.warn(msg)\n"
     ]
    }
   ],
   "source": [
    "model_ft = models.resnet18(pretrained=True)\n",
    "num_ftrs = model_ft.fc.in_features\n",
    "# Here the size of each output sample is set to 2.\n",
    "# Alternatively, it can be generalized to nn.Linear(num_ftrs, len(class_names)).\n",
    "model_ft.fc = nn.Linear(num_ftrs, 10)\n"
   ]
  },
  {
   "cell_type": "code",
   "execution_count": 6,
   "id": "c60234e0",
   "metadata": {
    "scrolled": true
   },
   "outputs": [
    {
     "data": {
      "text/plain": [
       "ResNet(\n",
       "  (conv1): Conv2d(3, 64, kernel_size=(7, 7), stride=(2, 2), padding=(3, 3), bias=False)\n",
       "  (bn1): BatchNorm2d(64, eps=1e-05, momentum=0.1, affine=True, track_running_stats=True)\n",
       "  (relu): ReLU(inplace=True)\n",
       "  (maxpool): MaxPool2d(kernel_size=3, stride=2, padding=1, dilation=1, ceil_mode=False)\n",
       "  (layer1): Sequential(\n",
       "    (0): BasicBlock(\n",
       "      (conv1): Conv2d(64, 64, kernel_size=(3, 3), stride=(1, 1), padding=(1, 1), bias=False)\n",
       "      (bn1): BatchNorm2d(64, eps=1e-05, momentum=0.1, affine=True, track_running_stats=True)\n",
       "      (relu): ReLU(inplace=True)\n",
       "      (conv2): Conv2d(64, 64, kernel_size=(3, 3), stride=(1, 1), padding=(1, 1), bias=False)\n",
       "      (bn2): BatchNorm2d(64, eps=1e-05, momentum=0.1, affine=True, track_running_stats=True)\n",
       "    )\n",
       "    (1): BasicBlock(\n",
       "      (conv1): Conv2d(64, 64, kernel_size=(3, 3), stride=(1, 1), padding=(1, 1), bias=False)\n",
       "      (bn1): BatchNorm2d(64, eps=1e-05, momentum=0.1, affine=True, track_running_stats=True)\n",
       "      (relu): ReLU(inplace=True)\n",
       "      (conv2): Conv2d(64, 64, kernel_size=(3, 3), stride=(1, 1), padding=(1, 1), bias=False)\n",
       "      (bn2): BatchNorm2d(64, eps=1e-05, momentum=0.1, affine=True, track_running_stats=True)\n",
       "    )\n",
       "  )\n",
       "  (layer2): Sequential(\n",
       "    (0): BasicBlock(\n",
       "      (conv1): Conv2d(64, 128, kernel_size=(3, 3), stride=(2, 2), padding=(1, 1), bias=False)\n",
       "      (bn1): BatchNorm2d(128, eps=1e-05, momentum=0.1, affine=True, track_running_stats=True)\n",
       "      (relu): ReLU(inplace=True)\n",
       "      (conv2): Conv2d(128, 128, kernel_size=(3, 3), stride=(1, 1), padding=(1, 1), bias=False)\n",
       "      (bn2): BatchNorm2d(128, eps=1e-05, momentum=0.1, affine=True, track_running_stats=True)\n",
       "      (downsample): Sequential(\n",
       "        (0): Conv2d(64, 128, kernel_size=(1, 1), stride=(2, 2), bias=False)\n",
       "        (1): BatchNorm2d(128, eps=1e-05, momentum=0.1, affine=True, track_running_stats=True)\n",
       "      )\n",
       "    )\n",
       "    (1): BasicBlock(\n",
       "      (conv1): Conv2d(128, 128, kernel_size=(3, 3), stride=(1, 1), padding=(1, 1), bias=False)\n",
       "      (bn1): BatchNorm2d(128, eps=1e-05, momentum=0.1, affine=True, track_running_stats=True)\n",
       "      (relu): ReLU(inplace=True)\n",
       "      (conv2): Conv2d(128, 128, kernel_size=(3, 3), stride=(1, 1), padding=(1, 1), bias=False)\n",
       "      (bn2): BatchNorm2d(128, eps=1e-05, momentum=0.1, affine=True, track_running_stats=True)\n",
       "    )\n",
       "  )\n",
       "  (layer3): Sequential(\n",
       "    (0): BasicBlock(\n",
       "      (conv1): Conv2d(128, 256, kernel_size=(3, 3), stride=(2, 2), padding=(1, 1), bias=False)\n",
       "      (bn1): BatchNorm2d(256, eps=1e-05, momentum=0.1, affine=True, track_running_stats=True)\n",
       "      (relu): ReLU(inplace=True)\n",
       "      (conv2): Conv2d(256, 256, kernel_size=(3, 3), stride=(1, 1), padding=(1, 1), bias=False)\n",
       "      (bn2): BatchNorm2d(256, eps=1e-05, momentum=0.1, affine=True, track_running_stats=True)\n",
       "      (downsample): Sequential(\n",
       "        (0): Conv2d(128, 256, kernel_size=(1, 1), stride=(2, 2), bias=False)\n",
       "        (1): BatchNorm2d(256, eps=1e-05, momentum=0.1, affine=True, track_running_stats=True)\n",
       "      )\n",
       "    )\n",
       "    (1): BasicBlock(\n",
       "      (conv1): Conv2d(256, 256, kernel_size=(3, 3), stride=(1, 1), padding=(1, 1), bias=False)\n",
       "      (bn1): BatchNorm2d(256, eps=1e-05, momentum=0.1, affine=True, track_running_stats=True)\n",
       "      (relu): ReLU(inplace=True)\n",
       "      (conv2): Conv2d(256, 256, kernel_size=(3, 3), stride=(1, 1), padding=(1, 1), bias=False)\n",
       "      (bn2): BatchNorm2d(256, eps=1e-05, momentum=0.1, affine=True, track_running_stats=True)\n",
       "    )\n",
       "  )\n",
       "  (layer4): Sequential(\n",
       "    (0): BasicBlock(\n",
       "      (conv1): Conv2d(256, 512, kernel_size=(3, 3), stride=(2, 2), padding=(1, 1), bias=False)\n",
       "      (bn1): BatchNorm2d(512, eps=1e-05, momentum=0.1, affine=True, track_running_stats=True)\n",
       "      (relu): ReLU(inplace=True)\n",
       "      (conv2): Conv2d(512, 512, kernel_size=(3, 3), stride=(1, 1), padding=(1, 1), bias=False)\n",
       "      (bn2): BatchNorm2d(512, eps=1e-05, momentum=0.1, affine=True, track_running_stats=True)\n",
       "      (downsample): Sequential(\n",
       "        (0): Conv2d(256, 512, kernel_size=(1, 1), stride=(2, 2), bias=False)\n",
       "        (1): BatchNorm2d(512, eps=1e-05, momentum=0.1, affine=True, track_running_stats=True)\n",
       "      )\n",
       "    )\n",
       "    (1): BasicBlock(\n",
       "      (conv1): Conv2d(512, 512, kernel_size=(3, 3), stride=(1, 1), padding=(1, 1), bias=False)\n",
       "      (bn1): BatchNorm2d(512, eps=1e-05, momentum=0.1, affine=True, track_running_stats=True)\n",
       "      (relu): ReLU(inplace=True)\n",
       "      (conv2): Conv2d(512, 512, kernel_size=(3, 3), stride=(1, 1), padding=(1, 1), bias=False)\n",
       "      (bn2): BatchNorm2d(512, eps=1e-05, momentum=0.1, affine=True, track_running_stats=True)\n",
       "    )\n",
       "  )\n",
       "  (avgpool): AdaptiveAvgPool2d(output_size=(1, 1))\n",
       "  (fc): Linear(in_features=512, out_features=10, bias=True)\n",
       ")"
      ]
     },
     "execution_count": 6,
     "metadata": {},
     "output_type": "execute_result"
    }
   ],
   "source": [
    "PATH = '/home/rishabh/Downloads/25epoch_model_5k.pt'\n",
    "model_ft.load_state_dict(torch.load(PATH, map_location= torch.device('cpu')))\n",
    "model_ft.eval()"
   ]
  },
  {
   "cell_type": "code",
   "execution_count": null,
   "id": "90fa2a9a",
   "metadata": {
    "scrolled": true
   },
   "outputs": [],
   "source": [
    "# count = 0\n",
    "# for (img, label, path) in dataloader:\n",
    "#     count+=1\n",
    "#     print(data)\n",
    "#     label = label.tolist()[0]\n",
    "#     print(label)\n",
    "#     outputs = model_ft(img)\n",
    "#     _, pred = torch.max(outputs, 1)\n",
    "#     print(pred.tolist()[0])\n",
    "#     if count==2:\n",
    "#         break\n",
    "    "
   ]
  },
  {
   "cell_type": "code",
   "execution_count": null,
   "id": "b7d75950",
   "metadata": {},
   "outputs": [],
   "source": [
    "print(GT)"
   ]
  },
  {
   "cell_type": "code",
   "execution_count": 9,
   "id": "fb415a39",
   "metadata": {},
   "outputs": [],
   "source": [
    "import math\n",
    "def sigmoid(x):\n",
    "    return 1/(1+math.exp(-x))"
   ]
  },
  {
   "cell_type": "code",
   "execution_count": 33,
   "id": "d8411b0c",
   "metadata": {},
   "outputs": [
    {
     "name": "stdout",
     "output_type": "stream",
     "text": [
      "torch.Size([1, 3, 224, 224])\n"
     ]
    }
   ],
   "source": [
    "for d in next(iter(dataloader)):\n",
    "    print(d.shape)\n",
    "    break"
   ]
  },
  {
   "cell_type": "code",
   "execution_count": 10,
   "id": "183f3bd4",
   "metadata": {},
   "outputs": [
    {
     "name": "stdout",
     "output_type": "stream",
     "text": [
      "torch.Size([1, 2, 224, 224])\n"
     ]
    }
   ],
   "source": [
    "a,b,c = next(iter(dataloader))\n",
    "if a.shape[1]==3:\n",
    "    a = a[:,:2,:,:]\n",
    "print(a.shape)"
   ]
  },
  {
   "cell_type": "code",
   "execution_count": 8,
   "id": "00f7c355",
   "metadata": {},
   "outputs": [
    {
     "name": "stdout",
     "output_type": "stream",
     "text": [
      "(3, 224, 224)\n"
     ]
    }
   ],
   "source": [
    "inputs, classes = next(iter(dataloader))\n",
    "\n",
    "for i in range(len(inputs.numpy())):\n",
    "    print(inputs.numpy()[i].shape)"
   ]
  },
  {
   "cell_type": "code",
   "execution_count": 50,
   "id": "0b36b0f9",
   "metadata": {
    "scrolled": true
   },
   "outputs": [],
   "source": [
    "# with torch.no_grad():\n",
    "#     for idx,d in enumerate(test_dataloader):\n",
    "#         print(idx)\n",
    "#         images, labels, path = d \n",
    "#         print([i.split('/')[-2] for i in path])\n",
    "#         print(images.shape)\n",
    "#         print(labels.shape)"
   ]
  },
  {
   "cell_type": "code",
   "execution_count": 11,
   "id": "e8c9db3e",
   "metadata": {
    "scrolled": true
   },
   "outputs": [],
   "source": [
    "device = torch.device(\"cuda:0\" if torch.cuda.is_available() else \"cpu\")\n",
    "#for making changes to dataloader:  /site-packages/torchvision/datasets/folder.py\n",
    "LABELS = []\n",
    "PREDS = []\n",
    "IMG_PATH = []\n",
    "CONFIDENCE = []\n",
    "with torch.no_grad():\n",
    "    for d in dataloader:\n",
    "        \n",
    "        #try:\n",
    "        images, labels, path = d   \n",
    "        #print(path)\n",
    "        if images.shape[1]==4:\n",
    "            print('***',path)\n",
    "            images = images[:,:3,:,:]\n",
    "        images = images.to(device)\n",
    "        labels = labels.to(device)\n",
    "\n",
    "        label = labels.tolist()  #[0]\n",
    "        outputs = model_ft(images)\n",
    "        logit, pred = torch.max(outputs, 1)\n",
    "        pred = pred.tolist() #[0]\n",
    "        logit = logit.tolist()\n",
    "        prob = [round(sigmoid(i),3) for i in logit]\n",
    "\n",
    "        #if pred!= label:\n",
    "        LABELS.extend(label)\n",
    "        PREDS.extend(pred)\n",
    "        IMG_PATH.extend(path)\n",
    "        CONFIDENCE.extend(prob)\n",
    "#         except:\n",
    "#             pass\n"
   ]
  },
  {
   "cell_type": "code",
   "execution_count": 13,
   "id": "eb8b304f",
   "metadata": {},
   "outputs": [
    {
     "name": "stdout",
     "output_type": "stream",
     "text": [
      "2150 2150\n",
      "2150 2150\n"
     ]
    }
   ],
   "source": [
    "print(len(LABELS), len(PREDS))\n",
    "print(len(CONFIDENCE), len(IMG_PATH))"
   ]
  },
  {
   "cell_type": "code",
   "execution_count": 15,
   "id": "0fa1f412",
   "metadata": {},
   "outputs": [
    {
     "data": {
      "text/plain": [
       "46.0"
      ]
     },
     "execution_count": 15,
     "metadata": {},
     "output_type": "execute_result"
    }
   ],
   "source": [
    "98900/2150"
   ]
  },
  {
   "cell_type": "code",
   "execution_count": 12,
   "id": "c70b48da",
   "metadata": {},
   "outputs": [],
   "source": [
    "#Img_Path = [i[0] for i in IMG_PATH]\n",
    "entry = {'Label': LABELS, 'Predicted': PREDS, 'Confidence': CONFIDENCE} #,'Image Path': IMG_PATH\n",
    "pred_df = pd.DataFrame(entry)  #wrong_\n",
    "pred_df.to_csv('/home/rishabh/animal_10cls/model25_test_info_3channel.csv', index = False)"
   ]
  },
  {
   "cell_type": "code",
   "execution_count": 14,
   "id": "30cd7f7f",
   "metadata": {},
   "outputs": [
    {
     "name": "stdout",
     "output_type": "stream",
     "text": [
      "2150\n",
      "103\n"
     ]
    }
   ],
   "source": [
    "print(len(pred_df))\n",
    "wrong_pred_df = pred_df[pred_df['Label']!= pred_df['Predicted']]\n",
    "print(len(wrong_pred_df))"
   ]
  },
  {
   "cell_type": "code",
   "execution_count": 15,
   "id": "8e20f50e",
   "metadata": {},
   "outputs": [
    {
     "name": "stdout",
     "output_type": "stream",
     "text": [
      "              precision    recall  f1-score   support\n",
      "\n",
      "           0       0.93      0.94      0.94       215\n",
      "           1       0.95      0.93      0.94       215\n",
      "           2       0.99      0.95      0.97       215\n",
      "           3       0.97      0.95      0.96       215\n",
      "           4       0.99      0.96      0.97       215\n",
      "           5       0.99      0.94      0.96       215\n",
      "           6       0.91      0.95      0.93       215\n",
      "           7       0.90      0.93      0.92       215\n",
      "           8       0.97      0.98      0.97       215\n",
      "           9       0.93      0.98      0.96       215\n",
      "\n",
      "    accuracy                           0.95      2150\n",
      "   macro avg       0.95      0.95      0.95      2150\n",
      "weighted avg       0.95      0.95      0.95      2150\n",
      "\n"
     ]
    }
   ],
   "source": [
    "from sklearn.metrics import classification_report,confusion_matrix\n",
    "import seaborn as sns\n",
    "print(classification_report(LABELS, PREDS))\n",
    "#print(confusion_matrix(y_test,predictions))\n"
   ]
  },
  {
   "cell_type": "code",
   "execution_count": 16,
   "id": "b14a3989",
   "metadata": {},
   "outputs": [
    {
     "data": {
      "text/plain": [
       "Text(0.5, 15.0, 'Predicted')"
      ]
     },
     "execution_count": 16,
     "metadata": {},
     "output_type": "execute_result"
    },
    {
     "data": {
      "image/png": "[encoded data removed]",
      "text/plain": [
       "<Figure size 432x288 with 2 Axes>"
      ]
     },
     "metadata": {
      "needs_background": "light"
     },
     "output_type": "display_data"
    }
   ],
   "source": [
    "cm = confusion_matrix(LABELS, PREDS)\n",
    "sns.heatmap(cm,annot=True,fmt=\"d\")\n",
    "plt.ylabel('Ground Truth')\n",
    "plt.xlabel('Predicted')"
   ]
  },
  {
   "cell_type": "code",
   "execution_count": 61,
   "id": "088118d5",
   "metadata": {},
   "outputs": [
    {
     "data": {
      "text/html": [
       "<div>\n",
       "<style scoped>\n",
       "    .dataframe tbody tr th:only-of-type {\n",
       "        vertical-align: middle;\n",
       "    }\n",
       "\n",
       "    .dataframe tbody tr th {\n",
       "        vertical-align: top;\n",
       "    }\n",
       "\n",
       "    .dataframe thead th {\n",
       "        text-align: right;\n",
       "    }\n",
       "</style>\n",
       "<table border=\"1\" class=\"dataframe\">\n",
       "  <thead>\n",
       "    <tr style=\"text-align: right;\">\n",
       "      <th></th>\n",
       "      <th>Label</th>\n",
       "      <th>Predicted</th>\n",
       "      <th>Confidence</th>\n",
       "      <th>Image Path</th>\n",
       "    </tr>\n",
       "  </thead>\n",
       "  <tbody>\n",
       "    <tr>\n",
       "      <th>5</th>\n",
       "      <td>7.0</td>\n",
       "      <td>6</td>\n",
       "      <td>1.000</td>\n",
       "      <td>/home/rishabh/Data/animal10/resized_raw_images...</td>\n",
       "    </tr>\n",
       "    <tr>\n",
       "      <th>7</th>\n",
       "      <td>6.0</td>\n",
       "      <td>7</td>\n",
       "      <td>1.000</td>\n",
       "      <td>/home/rishabh/Data/animal10/resized_raw_images...</td>\n",
       "    </tr>\n",
       "    <tr>\n",
       "      <th>32</th>\n",
       "      <td>0.0</td>\n",
       "      <td>5</td>\n",
       "      <td>0.998</td>\n",
       "      <td>/home/rishabh/Data/animal10/resized_raw_images...</td>\n",
       "    </tr>\n",
       "    <tr>\n",
       "      <th>41</th>\n",
       "      <td>7.0</td>\n",
       "      <td>6</td>\n",
       "      <td>1.000</td>\n",
       "      <td>/home/rishabh/Data/animal10/resized_raw_images...</td>\n",
       "    </tr>\n",
       "    <tr>\n",
       "      <th>58</th>\n",
       "      <td>6.0</td>\n",
       "      <td>7</td>\n",
       "      <td>0.992</td>\n",
       "      <td>/home/rishabh/Data/animal10/resized_raw_images...</td>\n",
       "    </tr>\n",
       "    <tr>\n",
       "      <th>...</th>\n",
       "      <td>...</td>\n",
       "      <td>...</td>\n",
       "      <td>...</td>\n",
       "      <td>...</td>\n",
       "    </tr>\n",
       "    <tr>\n",
       "      <th>2121</th>\n",
       "      <td>3.0</td>\n",
       "      <td>8</td>\n",
       "      <td>1.000</td>\n",
       "      <td>/home/rishabh/Data/animal10/resized_raw_images...</td>\n",
       "    </tr>\n",
       "    <tr>\n",
       "      <th>2125</th>\n",
       "      <td>0.0</td>\n",
       "      <td>1</td>\n",
       "      <td>1.000</td>\n",
       "      <td>/home/rishabh/Data/animal10/resized_raw_images...</td>\n",
       "    </tr>\n",
       "    <tr>\n",
       "      <th>2128</th>\n",
       "      <td>5.0</td>\n",
       "      <td>2</td>\n",
       "      <td>0.921</td>\n",
       "      <td>/home/rishabh/Data/animal10/resized_raw_images...</td>\n",
       "    </tr>\n",
       "    <tr>\n",
       "      <th>2130</th>\n",
       "      <td>1.0</td>\n",
       "      <td>0</td>\n",
       "      <td>0.997</td>\n",
       "      <td>/home/rishabh/Data/animal10/resized_raw_images...</td>\n",
       "    </tr>\n",
       "    <tr>\n",
       "      <th>2137</th>\n",
       "      <td>3.0</td>\n",
       "      <td>9</td>\n",
       "      <td>1.000</td>\n",
       "      <td>/home/rishabh/Data/animal10/resized_raw_images...</td>\n",
       "    </tr>\n",
       "  </tbody>\n",
       "</table>\n",
       "<p>132 rows × 4 columns</p>\n",
       "</div>"
      ],
      "text/plain": [
       "      Label  Predicted  Confidence  \\\n",
       "5       7.0          6       1.000   \n",
       "7       6.0          7       1.000   \n",
       "32      0.0          5       0.998   \n",
       "41      7.0          6       1.000   \n",
       "58      6.0          7       0.992   \n",
       "...     ...        ...         ...   \n",
       "2121    3.0          8       1.000   \n",
       "2125    0.0          1       1.000   \n",
       "2128    5.0          2       0.921   \n",
       "2130    1.0          0       0.997   \n",
       "2137    3.0          9       1.000   \n",
       "\n",
       "                                             Image Path  \n",
       "5     /home/rishabh/Data/animal10/resized_raw_images...  \n",
       "7     /home/rishabh/Data/animal10/resized_raw_images...  \n",
       "32    /home/rishabh/Data/animal10/resized_raw_images...  \n",
       "41    /home/rishabh/Data/animal10/resized_raw_images...  \n",
       "58    /home/rishabh/Data/animal10/resized_raw_images...  \n",
       "...                                                 ...  \n",
       "2121  /home/rishabh/Data/animal10/resized_raw_images...  \n",
       "2125  /home/rishabh/Data/animal10/resized_raw_images...  \n",
       "2128  /home/rishabh/Data/animal10/resized_raw_images...  \n",
       "2130  /home/rishabh/Data/animal10/resized_raw_images...  \n",
       "2137  /home/rishabh/Data/animal10/resized_raw_images...  \n",
       "\n",
       "[132 rows x 4 columns]"
      ]
     },
     "execution_count": 61,
     "metadata": {},
     "output_type": "execute_result"
    }
   ],
   "source": [
    "wrong_pred_df"
   ]
  },
  {
   "cell_type": "code",
   "execution_count": 60,
   "id": "4291f475",
   "metadata": {
    "scrolled": true
   },
   "outputs": [
    {
     "name": "stdout",
     "output_type": "stream",
     "text": [
      "0\n",
      "1\n",
      "2\n",
      "3\n",
      "4\n",
      "5\n",
      "6\n",
      "7\n",
      "8\n",
      "9\n",
      "10\n",
      "11\n",
      "12\n",
      "13\n",
      "14\n",
      "15\n",
      "16\n",
      "17\n",
      "18\n",
      "19\n",
      "20\n",
      "21\n",
      "22\n",
      "23\n",
      "24\n",
      "25\n",
      "26\n",
      "27\n",
      "28\n",
      "29\n",
      "30\n",
      "31\n",
      "32\n",
      "33\n",
      "34\n",
      "35\n",
      "36\n",
      "37\n",
      "38\n",
      "39\n",
      "40\n",
      "41\n",
      "42\n",
      "43\n",
      "44\n",
      "45\n",
      "46\n",
      "47\n",
      "48\n",
      "49\n",
      "50\n",
      "51\n",
      "52\n",
      "53\n",
      "54\n",
      "55\n",
      "56\n",
      "57\n",
      "58\n",
      "59\n",
      "60\n",
      "61\n",
      "62\n",
      "63\n",
      "64\n",
      "65\n",
      "66\n",
      "67\n",
      "68\n",
      "69\n",
      "70\n",
      "71\n",
      "72\n",
      "73\n",
      "74\n",
      "75\n",
      "76\n",
      "77\n",
      "78\n",
      "79\n",
      "80\n",
      "81\n",
      "82\n",
      "83\n",
      "84\n",
      "85\n",
      "86\n",
      "87\n",
      "88\n",
      "89\n",
      "90\n",
      "91\n",
      "92\n",
      "93\n",
      "94\n",
      "95\n",
      "96\n",
      "97\n",
      "98\n",
      "99\n",
      "100\n",
      "101\n",
      "102\n",
      "103\n",
      "104\n",
      "105\n",
      "106\n",
      "107\n",
      "108\n",
      "109\n",
      "110\n",
      "111\n",
      "112\n",
      "113\n",
      "114\n",
      "115\n",
      "116\n",
      "117\n",
      "118\n",
      "119\n",
      "120\n",
      "121\n",
      "122\n",
      "123\n",
      "124\n",
      "125\n",
      "126\n",
      "127\n",
      "128\n",
      "129\n",
      "130\n",
      "131\n"
     ]
    }
   ],
   "source": [
    "for idx, path in enumerate(wrong_pred_df['Image Path'].tolist()):\n",
    "    print(idx)\n",
    "    label = int(wrong_pred_df.iloc[idx]['Label'])\n",
    "    pred = int(wrong_pred_df.iloc[idx]['Predicted'])\n",
    "    conf = round(wrong_pred_df.iloc[idx]['Confidence'],2)\n",
    "    a = imageio.imread(path)\n",
    "    plt.imsave('/home/rishabh/animal_10cls/25_albumentation_test_wrong_pred/{}_{}_{}_{}.png'.format(idx,label,pred,conf),a)"
   ]
  },
  {
   "cell_type": "code",
   "execution_count": 58,
   "id": "02b9424f",
   "metadata": {},
   "outputs": [
    {
     "data": {
      "text/html": [
       "<div>\n",
       "<style scoped>\n",
       "    .dataframe tbody tr th:only-of-type {\n",
       "        vertical-align: middle;\n",
       "    }\n",
       "\n",
       "    .dataframe tbody tr th {\n",
       "        vertical-align: top;\n",
       "    }\n",
       "\n",
       "    .dataframe thead th {\n",
       "        text-align: right;\n",
       "    }\n",
       "</style>\n",
       "<table border=\"1\" class=\"dataframe\">\n",
       "  <thead>\n",
       "    <tr style=\"text-align: right;\">\n",
       "      <th></th>\n",
       "      <th>Label</th>\n",
       "      <th>Predicted</th>\n",
       "      <th>Confidence</th>\n",
       "      <th>Image Path</th>\n",
       "    </tr>\n",
       "  </thead>\n",
       "  <tbody>\n",
       "    <tr>\n",
       "      <th>939</th>\n",
       "      <td>0.0</td>\n",
       "      <td>2</td>\n",
       "      <td>0.778</td>\n",
       "      <td>/home/rishabh/Data/animal10/resized_raw_images...</td>\n",
       "    </tr>\n",
       "    <tr>\n",
       "      <th>945</th>\n",
       "      <td>7.0</td>\n",
       "      <td>5</td>\n",
       "      <td>0.750</td>\n",
       "      <td>/home/rishabh/Data/animal10/resized_raw_images...</td>\n",
       "    </tr>\n",
       "  </tbody>\n",
       "</table>\n",
       "</div>"
      ],
      "text/plain": [
       "     Label  Predicted  Confidence  \\\n",
       "939    0.0          2       0.778   \n",
       "945    7.0          5       0.750   \n",
       "\n",
       "                                            Image Path  \n",
       "939  /home/rishabh/Data/animal10/resized_raw_images...  \n",
       "945  /home/rishabh/Data/animal10/resized_raw_images...  "
      ]
     },
     "execution_count": 58,
     "metadata": {},
     "output_type": "execute_result"
    }
   ],
   "source": [
    "low_conf_df = pred_df[pred_df['Confidence']<0.80]\n",
    "low_conf_df"
   ]
  },
  {
   "cell_type": "code",
   "execution_count": null,
   "id": "d0b11ba5",
   "metadata": {},
   "outputs": [],
   "source": [
    "img_1_6 = []\n",
    "for index, row in wrong_pred_df.iterrows():\n",
    "    if row[\"Label\"]==1 and row[\"Predicted\"]==6:\n",
    "        img_1_6.append(row['Image Path'])\n",
    "        "
   ]
  },
  {
   "cell_type": "code",
   "execution_count": null,
   "id": "9b6d720c",
   "metadata": {},
   "outputs": [],
   "source": []
  },
  {
   "cell_type": "code",
   "execution_count": null,
   "id": "6998b5ed",
   "metadata": {
    "scrolled": false
   },
   "outputs": [],
   "source": [
    "for idx, path in enumerate(img_1_6):\n",
    "    print(path)\n",
    "    \n",
    "    img = imageio.imread(path) \n",
    "    plt.imshow(img)\n",
    "    plt.show()\n",
    "    plt.imsave('/home/rishabh/animal_10cls/wrong_pred_1_6/{}.png'.format(idx),img)"
   ]
  },
  {
   "cell_type": "code",
   "execution_count": null,
   "id": "ec24640f",
   "metadata": {},
   "outputs": [],
   "source": []
  }
 ],
 "metadata": {
  "kernelspec": {
   "display_name": "Python 3 (ipykernel)",
   "language": "python",
   "name": "python3"
  },
  "language_info": {
   "codemirror_mode": {
    "name": "ipython",
    "version": 3
   },
   "file_extension": ".py",
   "mimetype": "text/x-python",
   "name": "python",
   "nbconvert_exporter": "python",
   "pygments_lexer": "ipython3",
   "version": "3.9.12"
  }
 },
 "nbformat": 4,
 "nbformat_minor": 5
}
